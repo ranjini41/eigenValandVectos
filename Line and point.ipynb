{
 "cells": [
  {
   "cell_type": "code",
   "execution_count": 1,
   "metadata": {},
   "outputs": [
    {
     "name": "stdout",
     "output_type": "stream",
     "text": [
      "enter the slope m:2\n",
      "enter intercept c: 3\n",
      "enter x1: 3\n",
      "y1:  9\n",
      "enter x2: 6\n",
      "y2:  15\n",
      "enter random point xp: 5\n",
      "enter random point yp: 10\n",
      "point doesnt lie on the line\n"
     ]
    }
   ],
   "source": [
    "m=int(input(\"enter the slope m:\"))\n",
    "c=int(input(\"enter intercept c: \"))\n",
    "x1=int(input(\"enter x1: \"))\n",
    "y1=m*x1+c\n",
    "print(\"y1: \",y1)\n",
    "x2=int(input(\"enter x2: \"))\n",
    "y2=m*x2+c\n",
    "print(\"y2: \",y2)\n",
    "xp=int(input(\"enter random point xp: \"))\n",
    "yp=int(input(\"enter random point yp: \"))\n",
    "d1=(yp-y1)/(xp-x1)\n",
    "d2=(y2-yp)/(x2-xp)\n",
    "d=(y2-y1)/(x2-x1)\n",
    "if((d1+d2) == d):\n",
    "    print(\"point lies on line\")\n",
    "else:\n",
    "    print(\"point doesnt lie on the line\")"
   ]
  }
 ],
 "metadata": {
  "kernelspec": {
   "display_name": "Python 3",
   "language": "python",
   "name": "python3"
  },
  "language_info": {
   "codemirror_mode": {
    "name": "ipython",
    "version": 3
   },
   "file_extension": ".py",
   "mimetype": "text/x-python",
   "name": "python",
   "nbconvert_exporter": "python",
   "pygments_lexer": "ipython3",
   "version": "3.6.5"
  }
 },
 "nbformat": 4,
 "nbformat_minor": 2
}
