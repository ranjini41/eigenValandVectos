{
 "cells": [
  {
   "cell_type": "code",
   "execution_count": 4,
   "metadata": {},
   "outputs": [
    {
     "name": "stdout",
     "output_type": "stream",
     "text": [
      "area of square: 4\n",
      "2.8284271247461903\n",
      "1.4142135623730951\n",
      "area of circle:  6.283000000000002\n",
      "circumference of circle:  17.771007624780314\n"
     ]
    }
   ],
   "source": [
    "import math\n",
    "areas = int(input(\"area of square: \"))\n",
    "side = math.sqrt(areas)\n",
    "diagonal= side*(math.sqrt(2))\n",
    "print(diagonal)\n",
    "#dia=diagonal\n",
    "radius = diagonal/2\n",
    "print(radius)\n",
    "areac = 3.1415*(radius**2)\n",
    "cir=2*3.1415*diagonal\n",
    "print(\"area of circle: \",areac)\n",
    "print(\"circumference of circle: \",cir)\n"
   ]
  }
 ],
 "metadata": {
  "kernelspec": {
   "display_name": "Python 3",
   "language": "python",
   "name": "python3"
  },
  "language_info": {
   "codemirror_mode": {
    "name": "ipython",
    "version": 3
   },
   "file_extension": ".py",
   "mimetype": "text/x-python",
   "name": "python",
   "nbconvert_exporter": "python",
   "pygments_lexer": "ipython3",
   "version": "3.6.5"
  }
 },
 "nbformat": 4,
 "nbformat_minor": 2
}
