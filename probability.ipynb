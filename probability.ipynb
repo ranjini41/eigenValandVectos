{
 "cells": [
  {
   "cell_type": "code",
   "execution_count": 4,
   "metadata": {},
   "outputs": [
    {
     "name": "stdout",
     "output_type": "stream",
     "text": [
      "134\n",
      "probability that k digit number doesnt contain 0,5,9 is :   1.7504002307715033e-21\n",
      "probability that k digit number doesnt conatin 0,5,9 is :   2.7095768680686152e-33\n"
     ]
    }
   ],
   "source": [
    "#assumptions :\n",
    "\"\"\" the left most digit can be 0\n",
    "the questioner wants 0,5,9 not to occur simultaneously \"\"\"\n",
    "\n",
    "\n",
    "k =int(input())\n",
    "p1=(0.7)**k                                                                                                           #total number of k digit numbers = 10^k ,as 0,5,9 cant be used total number of k digit number will be 7 raised to k.\n",
    "                                                                                                                               #hence probability =(7^k)/(10^k)=(0.7)^k\n",
    "print(\"probability that k digit number doesnt contain 0,5,9 is :  \",p1)\n",
    "d=[0,1,3,4,5,7,9]\n",
    "p2=(4**k)/(7**k)                                                                                                   #total numbers = 7^k ,as 0,5,9 should not appear ,total numbers=4^k\n",
    "                                                                                                                                #probabilty = (4^k)/(7^k)\n",
    "print(\"probability that k digit number doesnt conatin 0,5,9 is :  \",p2)"
   ]
  },
  {
   "cell_type": "code",
   "execution_count": null,
   "metadata": {},
   "outputs": [],
   "source": []
  }
 ],
 "metadata": {
  "kernelspec": {
   "display_name": "Python 3",
   "language": "python",
   "name": "python3"
  },
  "language_info": {
   "codemirror_mode": {
    "name": "ipython",
    "version": 3
   },
   "file_extension": ".py",
   "mimetype": "text/x-python",
   "name": "python",
   "nbconvert_exporter": "python",
   "pygments_lexer": "ipython3",
   "version": "3.6.5"
  }
 },
 "nbformat": 4,
 "nbformat_minor": 2
}
