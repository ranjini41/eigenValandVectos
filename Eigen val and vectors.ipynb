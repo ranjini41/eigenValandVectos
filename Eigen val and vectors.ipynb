{
 "cells": [
  {
   "cell_type": "code",
   "execution_count": 8,
   "metadata": {},
   "outputs": [
    {
     "name": "stdout",
     "output_type": "stream",
     "text": [
      "3\n",
      "-2\n",
      "1\n",
      "0\n",
      "original mat:  [[3, -2], [1, 0]]\n",
      "eigen val:  [2. 1.]\n",
      "eigen vectors:  [[0.89442719 0.70710678]\n",
      " [0.4472136  0.70710678]]\n"
     ]
    }
   ],
   "source": [
    "\"\"\" Program to calculate eigen values and eigen vectors\n",
    "       for 2*2 matrix( elements specified by the user ) using numpy in python.  \"\"\"\n",
    "\n",
    "\n",
    "import numpy as np\n",
    "n= 2                                                #2*2 matrix so 2                        \n",
    "a=[[0] *n for i in range(n)]            #empty list of 2 rows and 2 columns\n",
    "for i in range(n):\n",
    "    for j in range(n):\n",
    "        a[i][j]=int(input())                   #input matrix elements row wise\n",
    "                                                        #print matrix\n",
    "print(\"original mat: \",a)\n",
    "w,v= np.linalg.eig(a)                       #returns tuple consisting of a vector(w) which conatins eigen values and an array(v) containing eigen vectors,1 eigen vector per coloumn\n",
    "print(\"eigen val: \",w)\n",
    "print(\"eigen vectors: \",v)"
   ]
  },
  {
   "cell_type": "code",
   "execution_count": null,
   "metadata": {},
   "outputs": [],
   "source": []
  }
 ],
 "metadata": {
  "kernelspec": {
   "display_name": "Python 3",
   "language": "python",
   "name": "python3"
  },
  "language_info": {
   "codemirror_mode": {
    "name": "ipython",
    "version": 3
   },
   "file_extension": ".py",
   "mimetype": "text/x-python",
   "name": "python",
   "nbconvert_exporter": "python",
   "pygments_lexer": "ipython3",
   "version": "3.6.5"
  }
 },
 "nbformat": 4,
 "nbformat_minor": 2
}
