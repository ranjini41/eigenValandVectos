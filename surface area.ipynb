{
 "cells": [
  {
   "cell_type": "code",
   "execution_count": 16,
   "metadata": {},
   "outputs": [
    {
     "name": "stdout",
     "output_type": "stream",
     "text": [
      "enter number of smaller cubes to bulid a bigger one: 2\n",
      "number of bigger cube:  8\n",
      "surface area s1=  24\n",
      " surface area after removing 1 unit from each corner ,s2=:  24\n"
     ]
    }
   ],
   "source": [
    "import math\n",
    "n=int(input(\"enter number of smaller cubes to bulid a bigger one: \"))\n",
    "if(n==1):\n",
    "    print(\"number of bigger cubes built: \",1)\n",
    "    print(\"surface area=: 6\")\n",
    "else:\n",
    "    b= n**3\n",
    "    surfacearea = 6* n*n\n",
    "    \n",
    "    print(\"number of bigger cube: \",b)\n",
    "    print(\"surface area s1= \",surfacearea)\n",
    "    s2 = n*n*6\n",
    "    print(\" surface area after removing 1 unit from each corner ,s2=: \",s2)\n",
    "    \n",
    "    "
   ]
  },
  {
   "cell_type": "code",
   "execution_count": null,
   "metadata": {},
   "outputs": [],
   "source": []
  }
 ],
 "metadata": {
  "kernelspec": {
   "display_name": "Python 3",
   "language": "python",
   "name": "python3"
  },
  "language_info": {
   "codemirror_mode": {
    "name": "ipython",
    "version": 3
   },
   "file_extension": ".py",
   "mimetype": "text/x-python",
   "name": "python",
   "nbconvert_exporter": "python",
   "pygments_lexer": "ipython3",
   "version": "3.6.5"
  }
 },
 "nbformat": 4,
 "nbformat_minor": 2
}
